{
 "cells": [
  {
   "cell_type": "markdown",
   "id": "ab05ceb9-c258-4a22-bafe-1aa335d40b8f",
   "metadata": {},
   "source": [
    "# Process, analyze, and summarize data with Spark and PySpark"
   ]
  },
  {
   "cell_type": "markdown",
   "id": "e794cc26-aa69-4047-a690-2a342ebb524a",
   "metadata": {},
   "source": [
    "## Project Description\n",
    "\n",
    "Did you know that a billion records are processed daily in PySpark by companies worldwide? As big data is on the rise, you’ll need tools like PySpark to process massive amounts of data.\n",
    "\n",
    "This guided project was designed to introduce data analysts and data science beginners to data analysis in PySpark. This 2-hour project course teaches you how to create a PySpark environment, explore and clean large data, aggregate and summarize data, and visualize data using real-life examples. By the end of this guided project, you’ll create a Jupyter Notebook that processes, analyzes, and summarizes data using PySpark. By working on hands-on tasks, you will gain a solid knowledge of data aggregation and summarization with PySpark, helping you acquire job-ready skills. \n",
    "\n",
    "You don’t need any experience in PySpark, but knowledge of Python is essential to succeeding in this project."
   ]
  },
  {
   "cell_type": "markdown",
   "id": "156abaa0-8a56-4155-b441-18af5eeeacae",
   "metadata": {},
   "source": [
    "## Project Overview\n",
    "This project demonstrates how to process and analyze large datasets using PySpark, focusing on employees data. Tasks include data loading, cleaning, exploration, and aggregation, culminating in insights on employee salaries and demographics.\n",
    "\n",
    "### About the Dataset\n",
    "**employees.csv**: Contains employee details like employee numbers, names, birth dates, hire dates, etc.\n",
    "\n",
    "**updated_salaries.csv**: Contains salary details for each employee, including salary amounts and dates."
   ]
  },
  {
   "cell_type": "markdown",
   "id": "f9cd3c17-248d-4808-956f-21c01eff8e2d",
   "metadata": {},
   "source": [
    "# Task One: Set up and overview of the project\n",
    "In this task, you will get an overview of the project and set up the PySpark environment."
   ]
  },
  {
   "cell_type": "code",
   "execution_count": 173,
   "id": "b5cd815f-63b3-4e74-9b53-35237b7383da",
   "metadata": {},
   "outputs": [],
   "source": [
    "## Import required libraries\n",
    "import pandas as pd\n",
    "import matplotlib.pyplot as plt\n",
    "import seaborn as sns\n",
    "from pyspark.sql.functions import col, avg, max, min, countDistinct, sum, round"
   ]
  },
  {
   "cell_type": "code",
   "execution_count": 206,
   "id": "5e15426d-f29a-44b3-9335-9e64b31a7ed5",
   "metadata": {},
   "outputs": [],
   "source": [
    "## Set up PySpark environment\n",
    "from pyspark.sql import SparkSession"
   ]
  },
  {
   "cell_type": "code",
   "execution_count": 207,
   "id": "6c6ea312-498a-43f1-b68e-12d75abb805b",
   "metadata": {},
   "outputs": [],
   "source": [
    "## Initialize the SparkSession\n",
    "spark = SparkSession.builder.appName(\"pysparkBasic\") \\\n",
    "        .master(\"local[3]\") \\\n",
    "        .getOrCreate()\n",
    "\n",
    "## Verify that SparkSession is created\n"
   ]
  },
  {
   "cell_type": "code",
   "execution_count": 176,
   "id": "d6cd1f9f",
   "metadata": {},
   "outputs": [
    {
     "data": {
      "text/html": [
       "\n",
       "            <div>\n",
       "                <p><b>SparkSession - in-memory</b></p>\n",
       "                \n",
       "        <div>\n",
       "            <p><b>SparkContext</b></p>\n",
       "\n",
       "            <p><a href=\"http://Ramalingam:4040\">Spark UI</a></p>\n",
       "\n",
       "            <dl>\n",
       "              <dt>Version</dt>\n",
       "                <dd><code>v3.5.3</code></dd>\n",
       "              <dt>Master</dt>\n",
       "                <dd><code>local[3]</code></dd>\n",
       "              <dt>AppName</dt>\n",
       "                <dd><code>pysparkBasic</code></dd>\n",
       "            </dl>\n",
       "        </div>\n",
       "        \n",
       "            </div>\n",
       "        "
      ],
      "text/plain": [
       "<pyspark.sql.session.SparkSession at 0x2214c041450>"
      ]
     },
     "execution_count": 176,
     "metadata": {},
     "output_type": "execute_result"
    }
   ],
   "source": [
    "spark"
   ]
  },
  {
   "cell_type": "markdown",
   "id": "777bfd46-805d-466f-b6f7-9e0db5113efa",
   "metadata": {},
   "source": [
    "# Task Two: Load the data\n",
    "In this task, you will load the employees.csv and updated_salaries.csv data."
   ]
  },
  {
   "cell_type": "code",
   "execution_count": 208,
   "id": "3021b17b-9829-4cdb-921e-3c66d7744071",
   "metadata": {},
   "outputs": [
    {
     "name": "stdout",
     "output_type": "stream",
     "text": [
      "data loaded successfully !\n"
     ]
    }
   ],
   "source": [
    "## Load the employees.csv dataset\n",
    "try:\n",
    "    emp_df = spark.read.csv(\"employees.csv\",header= True, inferSchema= True)\n",
    "    print(\"data loaded successfully !\")\n",
    "except Exception as e:\n",
    "    print(\"data not loaded successfully somethig wrong happened ..please check!\")"
   ]
  },
  {
   "cell_type": "code",
   "execution_count": 209,
   "id": "2b6f5c39-3b6d-48f7-8196-64dd2f2216aa",
   "metadata": {},
   "outputs": [
    {
     "name": "stdout",
     "output_type": "stream",
     "text": [
      "updated salary data loaded successfully !\n"
     ]
    }
   ],
   "source": [
    "## Load the updated_salaries.csv dataset\n",
    "try:\n",
    "    sal_df = spark.read.format('csv') \\\n",
    "            .option(\"header\",\"true\") \\\n",
    "            .option(\"inferSchema\",\"true\") \\\n",
    "            .load(\"updated_salaries.csv\")\n",
    "    print(\"updated salary data loaded successfully !\")\n",
    "except Exception as e:\n",
    "    print(\"data not loaded successfully somethig wrong happened ..please check!\")"
   ]
  },
  {
   "cell_type": "code",
   "execution_count": 210,
   "id": "a403c092-bf3f-473a-9c36-d468f6e37baf",
   "metadata": {},
   "outputs": [
    {
     "name": "stdout",
     "output_type": "stream",
     "text": [
      "+-----------+----------+---------+--------+------------+---------+--------+------+--------------+----------+-------------+\n",
      "|EMPLOYEE_ID|FIRST_NAME|LAST_NAME|   EMAIL|PHONE_NUMBER|HIRE_DATE|  JOB_ID|SALARY|COMMISSION_PCT|MANAGER_ID|DEPARTMENT_ID|\n",
      "+-----------+----------+---------+--------+------------+---------+--------+------+--------------+----------+-------------+\n",
      "|      10017|    Donald| OConnell|DOCONNEL|650.507.9833|21-Jun-07|SH_CLERK|  2600|            - |       124|           50|\n",
      "|      10017|   Douglas|    Grant|  DGRANT|650.507.9844|13-Jan-08|SH_CLERK|  2600|            - |       124|           50|\n",
      "|      10017|  Jennifer|   Whalen| JWHALEN|515.123.4444|17-Sep-03| AD_ASST|  4400|            - |       101|           10|\n",
      "|      10017|   Michael|Hartstein|MHARTSTE|515.123.5555|17-Feb-04|  MK_MAN| 13000|            - |       100|           20|\n",
      "|      10017|       Pat|      Fay|    PFAY|603.123.6666|17-Aug-05|  MK_REP|  6000|            - |       201|           20|\n",
      "+-----------+----------+---------+--------+------------+---------+--------+------+--------------+----------+-------------+\n",
      "only showing top 5 rows\n",
      "\n"
     ]
    }
   ],
   "source": [
    "## Show the first few rows of the employees data\n",
    "emp_df.show(5)"
   ]
  },
  {
   "cell_type": "code",
   "execution_count": 211,
   "id": "c7fabf1f-f9bf-4554-b65c-48771773c278",
   "metadata": {},
   "outputs": [
    {
     "name": "stdout",
     "output_type": "stream",
     "text": [
      "+------+------+-------+----------+----------+\n",
      "|emp_no|salary|dept_no| from_date|   to_date|\n",
      "+------+------+-------+----------+----------+\n",
      "| 10017| 71380|   d001|03-08-1993|03-08-1994|\n",
      "| 10017| 75538|   d001|03-08-1994|03-08-1995|\n",
      "| 10017| 79510|   d001|03-08-1995|02-08-1996|\n",
      "| 10017| 82163|   d001|02-08-1996|02-08-1997|\n",
      "| 10017| 86157|   d001|02-08-1997|02-08-1998|\n",
      "+------+------+-------+----------+----------+\n",
      "only showing top 5 rows\n",
      "\n"
     ]
    }
   ],
   "source": [
    "## Show the first few rows of the salaries data\n",
    "sal_df.show(5)"
   ]
  },
  {
   "cell_type": "code",
   "execution_count": 215,
   "id": "56f45eb2-beec-4e9e-9a1f-33d88c04841f",
   "metadata": {},
   "outputs": [
    {
     "name": "stdout",
     "output_type": "stream",
     "text": [
      "root\n",
      " |-- emp_no: integer (nullable = true)\n",
      " |-- salary: integer (nullable = true)\n",
      " |-- dept_no: string (nullable = true)\n",
      " |-- from_date: string (nullable = true)\n",
      " |-- to_date: string (nullable = true)\n",
      "\n"
     ]
    }
   ],
   "source": [
    "## Print the schema for salary data\n",
    "sal_df.printSchema()\n"
   ]
  },
  {
   "cell_type": "markdown",
   "id": "0812d9ee-e0a8-49f2-b6bc-bbb4ab853818",
   "metadata": {},
   "source": [
    "# Task Three: Clean and process the data\n",
    "In this task, you will perform quick data cleaning by converting variables to proper data types."
   ]
  },
  {
   "cell_type": "code",
   "execution_count": 214,
   "id": "8ae18cc0-f1f5-4b72-82fe-51995b4b3dec",
   "metadata": {},
   "outputs": [
    {
     "name": "stdout",
     "output_type": "stream",
     "text": [
      "root\n",
      " |-- EMPLOYEE_ID: integer (nullable = true)\n",
      " |-- FIRST_NAME: string (nullable = true)\n",
      " |-- LAST_NAME: string (nullable = true)\n",
      " |-- EMAIL: string (nullable = true)\n",
      " |-- PHONE_NUMBER: string (nullable = true)\n",
      " |-- HIRE_DATE: string (nullable = true)\n",
      " |-- JOB_ID: string (nullable = true)\n",
      " |-- SALARY: integer (nullable = true)\n",
      " |-- COMMISSION_PCT: string (nullable = true)\n",
      " |-- MANAGER_ID: string (nullable = true)\n",
      " |-- DEPARTMENT_ID: integer (nullable = true)\n",
      "\n"
     ]
    }
   ],
   "source": [
    "from pyspark.sql.types import StringType\n",
    "\n",
    "## Cast the 'emp_no' column in the employees data to a string\n",
    "emp_df = emp_df.withColumn('EMPLOYEE_ID',emp_df['EMPLOYEE_ID'].cast(\"int\")) \n",
    "                \n",
    "## Print the updated schema\n",
    "emp_df.printSchema()"
   ]
  },
  {
   "cell_type": "code",
   "execution_count": 216,
   "id": "f5743ea3",
   "metadata": {},
   "outputs": [
    {
     "name": "stdout",
     "output_type": "stream",
     "text": [
      "+-----------+----------+---------+--------+------------+---------+--------+------+--------------+----------+-------------+\n",
      "|EMPLOYEE_ID|FIRST_NAME|LAST_NAME|   EMAIL|PHONE_NUMBER|HIRE_DATE|  JOB_ID|SALARY|COMMISSION_PCT|MANAGER_ID|DEPARTMENT_ID|\n",
      "+-----------+----------+---------+--------+------------+---------+--------+------+--------------+----------+-------------+\n",
      "|      10017|    Donald| OConnell|DOCONNEL|650.507.9833|21-Jun-07|SH_CLERK|  2600|            - |       124|           50|\n",
      "|      10017|   Douglas|    Grant|  DGRANT|650.507.9844|13-Jan-08|SH_CLERK|  2600|            - |       124|           50|\n",
      "|      10017|  Jennifer|   Whalen| JWHALEN|515.123.4444|17-Sep-03| AD_ASST|  4400|            - |       101|           10|\n",
      "|      10017|   Michael|Hartstein|MHARTSTE|515.123.5555|17-Feb-04|  MK_MAN| 13000|            - |       100|           20|\n",
      "|      10017|       Pat|      Fay|    PFAY|603.123.6666|17-Aug-05|  MK_REP|  6000|            - |       201|           20|\n",
      "+-----------+----------+---------+--------+------------+---------+--------+------+--------------+----------+-------------+\n",
      "only showing top 5 rows\n",
      "\n"
     ]
    }
   ],
   "source": [
    "emp_df.show(5)"
   ]
  },
  {
   "cell_type": "code",
   "execution_count": 205,
   "id": "fa8470fe-fa25-45a9-a420-3c877db60a3d",
   "metadata": {
    "scrolled": true
   },
   "outputs": [
    {
     "name": "stdout",
     "output_type": "stream",
     "text": [
      "root\n",
      " |-- emp_no: integer (nullable = true)\n",
      " |-- salary: integer (nullable = true)\n",
      " |-- dept_no: string (nullable = true)\n",
      " |-- from_date: string (nullable = true)\n",
      " |-- to_date: string (nullable = true)\n",
      "\n",
      "+------+------+-------+---------+-------+\n",
      "|emp_no|salary|dept_no|from_date|to_date|\n",
      "+------+------+-------+---------+-------+\n",
      "| 10017| 71380|   d001|     NULL|   NULL|\n",
      "| 10017| 75538|   d001|     NULL|   NULL|\n",
      "| 10017| 79510|   d001|     NULL|   NULL|\n",
      "| 10017| 82163|   d001|     NULL|   NULL|\n",
      "| 10017| 86157|   d001|     NULL|   NULL|\n",
      "+------+------+-------+---------+-------+\n",
      "only showing top 5 rows\n",
      "\n"
     ]
    }
   ],
   "source": [
    "## Chain transformations to cast 'emp_no' to string and 'to_date' & 'from_date' to date\n",
    "sal_df = sal_df.withColumn('emp_no',sal_df['emp_no'].cast('int')) \\\n",
    "                .withColumn('to_date',sal_df['to_date'].cast('string')) \\\n",
    "                .withColumn('from_date',sal_df['from_date'].cast('string'))\n",
    "\n",
    "## Show the updated schema\n",
    "sal_df.printSchema()\n",
    "sal_df.show(5)"
   ]
  },
  {
   "cell_type": "markdown",
   "id": "bf8b03eb-41e9-4b5b-9571-42e96b86cb15",
   "metadata": {},
   "source": [
    "# Task Four: Explore the data\n",
    "In this task, you will explore the salaries data by computing summary statistics and visualizing the salary column."
   ]
  },
  {
   "cell_type": "code",
   "execution_count": 202,
   "id": "1ae9845e-704a-4f06-9d63-530fa0d7d424",
   "metadata": {},
   "outputs": [
    {
     "name": "stdout",
     "output_type": "stream",
     "text": [
      "+--------------------------------------------+--------------------------------------------+----------------------------------------------+--------------------------------------------------+----------------------------------------------+\n",
      "|sum(CAST((emp_no IS NULL) AS INT) AS emp_no)|sum(CAST((salary IS NULL) AS INT) AS salary)|sum(CAST((dept_no IS NULL) AS INT) AS dept_no)|sum(CAST((from_date IS NULL) AS INT) AS from_date)|sum(CAST((to_date IS NULL) AS INT) AS to_date)|\n",
      "+--------------------------------------------+--------------------------------------------+----------------------------------------------+--------------------------------------------------+----------------------------------------------+\n",
      "|                                           0|                                           0|                                             0|                                                50|                                            50|\n",
      "+--------------------------------------------+--------------------------------------------+----------------------------------------------+--------------------------------------------------+----------------------------------------------+\n",
      "\n"
     ]
    }
   ],
   "source": [
    "## Create a sum of missing values per column in the salary data\n",
    "sal_df.select([sum(col(c).isNull().cast(\"int\").alias(c)) for c in sal_df.columns]).show()"
   ]
  },
  {
   "cell_type": "code",
   "execution_count": 203,
   "id": "0a55da30-a71a-46c3-9cfb-a94bf36a21ae",
   "metadata": {
    "scrolled": true
   },
   "outputs": [
    {
     "name": "stdout",
     "output_type": "stream",
     "text": [
      "+-------+-----------------+------------------+-------+\n",
      "|summary|           emp_no|            salary|dept_no|\n",
      "+-------+-----------------+------------------+-------+\n",
      "|  count|               50|                50|     50|\n",
      "|   mean|         10086.28|           71005.8|   NULL|\n",
      "| stddev|54.80579442030406|13632.000985077097|   NULL|\n",
      "|    min|            10017|             40000|   d001|\n",
      "|    max|            10175|             99651|   d005|\n",
      "+-------+-----------------+------------------+-------+\n",
      "\n"
     ]
    }
   ],
   "source": [
    "## Create the summary statistics for the salary data\n",
    "sal_df.describe().show()"
   ]
  },
  {
   "cell_type": "code",
   "execution_count": 189,
   "id": "85285cb5-57f7-48fb-a55f-952981f18b80",
   "metadata": {},
   "outputs": [
    {
     "name": "stdout",
     "output_type": "stream",
     "text": [
      "total rows in salary : 50\n",
      "unique values in salary dataframe 6\n"
     ]
    }
   ],
   "source": [
    "## Count total rows and unique employees in salary data\n",
    "print(f\"total rows in salary : {sal_df.count()}\")\n",
    "print(f\"unique values in salary dataframe {sal_df.select('emp_no').distinct().count()}\")"
   ]
  },
  {
   "cell_type": "code",
   "execution_count": 190,
   "id": "da2fac36-e51e-4da2-a5ad-6ba362709bc5",
   "metadata": {},
   "outputs": [
    {
     "data": {
      "image/png": "[encoded data removed]",
      "text/plain": [
       "<Figure size 640x480 with 1 Axes>"
      ]
     },
     "metadata": {},
     "output_type": "display_data"
    }
   ],
   "source": [
    "## Plot the salary distribution\n",
    "sal_df_pandas = sal_df.toPandas()\n",
    "sns.histplot(sal_df_pandas['salary'])\n",
    "plt.title('salary distribution')\n",
    "plt.show()"
   ]
  },
  {
   "cell_type": "markdown",
   "id": "50d48859-39f7-4967-85b6-53c08fa3568f",
   "metadata": {},
   "source": [
    "# Practice Activity One: Explore the data"
   ]
  },
  {
   "cell_type": "code",
   "execution_count": 191,
   "id": "e6487ce1-b885-4ada-b44e-6fcf3bff48e2",
   "metadata": {},
   "outputs": [
    {
     "name": "stdout",
     "output_type": "stream",
     "text": [
      "+------------------------------------------------------+----------------------------------------------------+--------------------------------------------------+------------------------------------------+--------------------------------------------------------+--------------------------------------------------+--------------------------------------------+--------------------------------------------+------------------------------------------------------------+----------------------------------------------------+----------------------------------------------------------+\n",
      "|sum(CAST((EMPLOYEE_ID IS NULL) AS INT) AS EMPLOYEE_ID)|sum(CAST((FIRST_NAME IS NULL) AS INT) AS FIRST_NAME)|sum(CAST((LAST_NAME IS NULL) AS INT) AS LAST_NAME)|sum(CAST((EMAIL IS NULL) AS INT) AS EMAIL)|sum(CAST((PHONE_NUMBER IS NULL) AS INT) AS PHONE_NUMBER)|sum(CAST((HIRE_DATE IS NULL) AS INT) AS HIRE_DATE)|sum(CAST((JOB_ID IS NULL) AS INT) AS JOB_ID)|sum(CAST((SALARY IS NULL) AS INT) AS SALARY)|sum(CAST((COMMISSION_PCT IS NULL) AS INT) AS COMMISSION_PCT)|sum(CAST((MANAGER_ID IS NULL) AS INT) AS MANAGER_ID)|sum(CAST((DEPARTMENT_ID IS NULL) AS INT) AS DEPARTMENT_ID)|\n",
      "+------------------------------------------------------+----------------------------------------------------+--------------------------------------------------+------------------------------------------+--------------------------------------------------------+--------------------------------------------------+--------------------------------------------+--------------------------------------------+------------------------------------------------------------+----------------------------------------------------+----------------------------------------------------------+\n",
      "|                                                     0|                                                   0|                                                 0|                                         0|                                                       0|                                                 0|                                           0|                                           0|                                                           0|                                                   0|                                                         0|\n",
      "+------------------------------------------------------+----------------------------------------------------+--------------------------------------------------+------------------------------------------+--------------------------------------------------------+--------------------------------------------------+--------------------------------------------+--------------------------------------------+------------------------------------------------------------+----------------------------------------------------+----------------------------------------------------------+\n",
      "\n"
     ]
    }
   ],
   "source": [
    "## Create a sum of missing values per column in the employees data\n",
    "\n",
    "emp_df.select([sum(col(c).isNull().cast(\"int\").alias(c)) for c in emp_df.columns]).show()"
   ]
  },
  {
   "cell_type": "code",
   "execution_count": 192,
   "id": "70795dbd-e31d-49b6-9c5b-8797a6fd17a2",
   "metadata": {},
   "outputs": [
    {
     "name": "stdout",
     "output_type": "stream",
     "text": [
      "number of records in eployee table : 50\n"
     ]
    }
   ],
   "source": [
    "## Count the number of rows in the employees data\n",
    "print(f\"number of records in eployee table : {emp_df.count()}\")"
   ]
  },
  {
   "cell_type": "code",
   "execution_count": 193,
   "id": "5ab36f36-0b27-4b94-9464-010b8bd73238",
   "metadata": {},
   "outputs": [
    {
     "data": {
      "text/plain": [
       "45"
      ]
     },
     "execution_count": 193,
     "metadata": {},
     "output_type": "execute_result"
    }
   ],
   "source": [
    "## How many different first names can be found in the employees data?\n",
    "emp_df.select('FIRST_NAME').distinct().count()"
   ]
  },
  {
   "cell_type": "markdown",
   "id": "f73f0f7a-2a23-4ac8-b4b3-e16f8e89c312",
   "metadata": {},
   "source": [
    "# Task Five: Aggregate and summarize the data\n",
    "In this task, you will perform data aggregation and summarization using the salaries data."
   ]
  },
  {
   "cell_type": "code",
   "execution_count": 194,
   "id": "6bebf7cb-6e44-423d-80ff-b2da279c8142",
   "metadata": {
    "scrolled": true
   },
   "outputs": [
    {
     "name": "stdout",
     "output_type": "stream",
     "text": [
      "+-------+------------------+-------------+-----------+\n",
      "|dept_no|    average_salary|max_of_salary|distint_emp|\n",
      "+-------+------------------+-------------+-----------+\n",
      "|   d005| 73607.33333333333|        80922|          2|\n",
      "|   d003|62876.333333333336|        67913|          1|\n",
      "|   d001| 78904.14285714286|        99651|          3|\n",
      "|   d004|         58110.125|        65891|          2|\n",
      "|   d002|           72020.5|        91985|          4|\n",
      "+-------+------------------+-------------+-----------+\n",
      "\n"
     ]
    }
   ],
   "source": [
    "## Group the data and calculate the average salary for each department\n",
    "#dept_summary_df = sal_df.groupBy('dept_no').agg({'salary':'avg'})\n",
    "dept_summary = sal_df.groupBy('dept_no').agg(avg('salary').alias('average_salary'),\n",
    "                                                max('salary').alias('max_of_salary'),countDistinct('emp_no').alias('distint_emp'))\n",
    "dept_summary.show()"
   ]
  },
  {
   "cell_type": "code",
   "execution_count": 195,
   "id": "993ae615-4034-4114-82e7-d3f0a9dffe7f",
   "metadata": {},
   "outputs": [
    {
     "name": "stdout",
     "output_type": "stream",
     "text": [
      "+-------+------------------+--------------+\n",
      "|dept_no|    average_salary|employee_count|\n",
      "+-------+------------------+--------------+\n",
      "|   d005| 73607.33333333333|             2|\n",
      "|   d003|62876.333333333336|             1|\n",
      "|   d001| 78904.14285714286|             3|\n",
      "|   d004|         58110.125|             2|\n",
      "|   d002|           72020.5|             4|\n",
      "+-------+------------------+--------------+\n",
      "\n"
     ]
    }
   ],
   "source": [
    "## Get the average salary and number of employees in each department\n",
    "dept_summary = sal_df.groupBy('dept_no').agg(avg('salary').alias('average_salary'),\n",
    "                                             countDistinct('emp_no').alias('employee_count'))\n",
    "dept_summary.show()"
   ]
  },
  {
   "cell_type": "code",
   "execution_count": 196,
   "id": "9ea7a016-d1f4-41fa-88ba-ae9765bc9ec9",
   "metadata": {},
   "outputs": [
    {
     "data": {
      "image/png": "[encoded data removed]",
      "text/plain": [
       "<Figure size 640x480 with 1 Axes>"
      ]
     },
     "metadata": {},
     "output_type": "display_data"
    }
   ],
   "source": [
    "## Convert Spark data frame  to Pandas for visualization\n",
    "dept_summary_df = dept_summary.toPandas()\n",
    "\n",
    "## Plot the data\n",
    "dept_summary_df.plot(kind = \"bar\",x = \"dept_no\",y = \"employee_count\" , title = \"Employee count per department\" , legend = False)\n",
    "plt.show()"
   ]
  },
  {
   "cell_type": "code",
   "execution_count": 197,
   "id": "73f13853-b247-4493-a892-785be265fded",
   "metadata": {
    "scrolled": true
   },
   "outputs": [
    {
     "name": "stdout",
     "output_type": "stream",
     "text": [
      "+------+------------------+\n",
      "|emp_no|    average_salary|\n",
      "+------+------------------+\n",
      "| 10017|           87064.7|\n",
      "| 10055|           85483.0|\n",
      "| 10175| 75681.33333333333|\n",
      "| 10140|          67130.75|\n",
      "| 10058|           63302.8|\n",
      "| 10108|42837.333333333336|\n",
      "+------+------------------+\n",
      "\n"
     ]
    }
   ],
   "source": [
    "## Retrieve a list of employee numbers and the average salary.\n",
    "## Make sure that you return where the average salary is more than $120,000\n",
    "\n",
    "## Group by employee number and calculate the average salary\n",
    "emp_avg_salary = sal_df.groupby('emp_no').agg(avg('salary').alias('average_salary')) \\\n",
    "                    .filter(col('average_salary')>12000) \\\n",
    "                    .orderBy('emp_no')\n",
    "\n",
    "## Order in descending order of average_salary\n",
    "emp_avg_salary = sal_df.groupby('emp_no').agg(avg('salary').alias('average_salary')) \\\n",
    "                    .filter(col('average_salary')>12000) \\\n",
    "                    .orderBy(col('average_salary').desc())\n",
    "\n",
    "## Show the result\n",
    "emp_avg_salary.show()"
   ]
  },
  {
   "cell_type": "markdown",
   "id": "fa860eae-8548-415c-bc52-e6ace6028f16",
   "metadata": {},
   "source": [
    "# Task Six: Join the data sets\n",
    "In this task, you will join the salaries and employees data using the employees number."
   ]
  },
  {
   "cell_type": "code",
   "execution_count": 198,
   "id": "1ace7be7-7f65-4f3f-a0ab-eabbedb8f025",
   "metadata": {
    "scrolled": true
   },
   "outputs": [
    {
     "name": "stdout",
     "output_type": "stream",
     "text": [
      "+-----------+----------+---------+--------+------------+---------+--------+------+--------------+----------+-------------+----+\n",
      "|EMPLOYEE_ID|FIRST_NAME|LAST_NAME|   EMAIL|PHONE_NUMBER|HIRE_DATE|  JOB_ID|SALARY|COMMISSION_PCT|MANAGER_ID|DEPARTMENT_ID| age|\n",
      "+-----------+----------+---------+--------+------------+---------+--------+------+--------------+----------+-------------+----+\n",
      "|      10017|    Donald| OConnell|DOCONNEL|650.507.9833|21-Jun-07|SH_CLERK|  2600|            - |       124|           50|NULL|\n",
      "|      10017|   Douglas|    Grant|  DGRANT|650.507.9844|13-Jan-08|SH_CLERK|  2600|            - |       124|           50|NULL|\n",
      "|      10017|  Jennifer|   Whalen| JWHALEN|515.123.4444|17-Sep-03| AD_ASST|  4400|            - |       101|           10|NULL|\n",
      "|      10017|   Michael|Hartstein|MHARTSTE|515.123.5555|17-Feb-04|  MK_MAN| 13000|            - |       100|           20|NULL|\n",
      "|      10017|       Pat|      Fay|    PFAY|603.123.6666|17-Aug-05|  MK_REP|  6000|            - |       201|           20|NULL|\n",
      "+-----------+----------+---------+--------+------------+---------+--------+------+--------------+----------+-------------+----+\n",
      "only showing top 5 rows\n",
      "\n"
     ]
    }
   ],
   "source": [
    "from pyspark.sql import functions as F\n",
    "\n",
    "## Create an age column in the employees data\n",
    "## Age when the employee was hired\n",
    "emp_df = emp_df.withColumn('age',F.year(F.col('HIRE_DATE'))-'1881')\n",
    "emp_df.show(5)"
   ]
  },
  {
   "cell_type": "code",
   "execution_count": 199,
   "id": "b0faeae1",
   "metadata": {},
   "outputs": [
    {
     "name": "stdout",
     "output_type": "stream",
     "text": [
      "root\n",
      " |-- EMPLOYEE_ID: integer (nullable = true)\n",
      " |-- FIRST_NAME: string (nullable = true)\n",
      " |-- LAST_NAME: string (nullable = true)\n",
      " |-- EMAIL: string (nullable = true)\n",
      " |-- PHONE_NUMBER: string (nullable = true)\n",
      " |-- HIRE_DATE: string (nullable = true)\n",
      " |-- JOB_ID: string (nullable = true)\n",
      " |-- SALARY: integer (nullable = true)\n",
      " |-- COMMISSION_PCT: string (nullable = true)\n",
      " |-- MANAGER_ID: string (nullable = true)\n",
      " |-- DEPARTMENT_ID: integer (nullable = true)\n",
      " |-- age: integer (nullable = true)\n",
      "\n"
     ]
    }
   ],
   "source": [
    "emp_df = emp_df.withColumn('age',emp_df['age'].cast('int'))\n",
    "emp_df.printSchema()"
   ]
  },
  {
   "cell_type": "code",
   "execution_count": 217,
   "id": "b692b74e-bfb3-4ad4-9917-0627efa3870f",
   "metadata": {},
   "outputs": [
    {
     "name": "stdout",
     "output_type": "stream",
     "text": [
      "+------+------+-------+----------+----------+-----------+----------+---------+--------+------------+---------+----------+------+--------------+----------+-------------+\n",
      "|emp_no|salary|dept_no| from_date|   to_date|EMPLOYEE_ID|FIRST_NAME|LAST_NAME|   EMAIL|PHONE_NUMBER|HIRE_DATE|    JOB_ID|SALARY|COMMISSION_PCT|MANAGER_ID|DEPARTMENT_ID|\n",
      "+------+------+-------+----------+----------+-----------+----------+---------+--------+------------+---------+----------+------+--------------+----------+-------------+\n",
      "| 10017| 71380|   d001|03-08-1993|03-08-1994|      10017|    Steven|     King|   SKING|515.123.4567|17-Jun-03|   AD_PRES| 24000|            - |        - |           90|\n",
      "| 10017| 71380|   d001|03-08-1993|03-08-1994|      10017|   William|    Gietz|  WGIETZ|515.123.8181|07-Jun-02|AC_ACCOUNT|  8300|            - |       205|          110|\n",
      "| 10017| 71380|   d001|03-08-1993|03-08-1994|      10017|   Shelley|  Higgins|SHIGGINS|515.123.8080|07-Jun-02|    AC_MGR| 12008|            - |       101|          110|\n",
      "| 10017| 71380|   d001|03-08-1993|03-08-1994|      10017|   Hermann|     Baer|   HBAER|515.123.8888|07-Jun-02|    PR_REP| 10000|            - |       101|           70|\n",
      "| 10017| 71380|   d001|03-08-1993|03-08-1994|      10017|     Susan|   Mavris| SMAVRIS|515.123.7777|07-Jun-02|    HR_REP|  6500|            - |       101|           40|\n",
      "+------+------+-------+----------+----------+-----------+----------+---------+--------+------------+---------+----------+------+--------------+----------+-------------+\n",
      "only showing top 5 rows\n",
      "\n"
     ]
    }
   ],
   "source": [
    "## Join salaries and employees data on 'emp_no'\n",
    "join_expr  = sal_df.emp_no == emp_df.EMPLOYEE_ID\n",
    "emp_data = sal_df.join(emp_df,join_expr,\"left\")\n",
    "emp_data = emp_data.orderBy(sal_df.emp_no)\n",
    "emp_data.show(5)"
   ]
  },
  {
   "cell_type": "code",
   "execution_count": 218,
   "id": "006d3a34-614e-4fb8-bf6c-e2bd2ce551e4",
   "metadata": {},
   "outputs": [
    {
     "name": "stdout",
     "output_type": "stream",
     "text": [
      "+-----------+----------+---------+---------+\n",
      "|EMPLOYEE_ID|first_name|last_name|HIRE_DATE|\n",
      "+-----------+----------+---------+---------+\n",
      "|      10017|    Donald| OConnell|21-Jun-07|\n",
      "|      10055|     Neena|  Kochhar|21-Sep-05|\n",
      "|      10175|        Ki|      Gee|12-Dec-07|\n",
      "|      10140|    Shanta|  Vollman|10-Oct-05|\n",
      "|      10058|     David|   Austin|25-Jun-05|\n",
      "+-----------+----------+---------+---------+\n",
      "only showing top 5 rows\n",
      "\n"
     ]
    }
   ],
   "source": [
    "## Retrieve a list of employee numbers and the average salary.\n",
    "## Make sure that you return where the average salary is more than $120,000\n",
    "\n",
    "## Group by employee number and calculate the average salary\n",
    "\n",
    "emp_salary_summary = sal_df.groupBy('emp_no').agg(avg('salary').alias('average_salary')) \\\n",
    "                        .filter(col('average_salary')>12000)\n",
    "\n",
    "\n",
    "## Join the aggregated result back with the original employee data to get first_name, last_name, hire_date\n",
    "\n",
    "join_expr1 = emp_salary_summary.emp_no == emp_data.emp_no\n",
    "emp_salary_summary1 = emp_salary_summary.join(emp_data,join_expr1,\"left\") \\\n",
    "                        .select(\"EMPLOYEE_ID\",\"first_name\",\"last_name\",\"HIRE_DATE\") \\\n",
    "                        .dropDuplicates([\"EMPLOYEE_ID\"]) \\\n",
    "                    .orderBy(col(\"average_salary\").desc())\n",
    "\n",
    "\n",
    "emp_salary_summary1.show(5)"
   ]
  },
  {
   "cell_type": "markdown",
   "id": "966a831e-ba55-4e3b-93d8-e7de726d9091",
   "metadata": {},
   "source": [
    "# Cumulative Activity: Analyze employees' retention\n",
    "\n",
    "As a junior data analyst at a growing company, you are tasked with analyzing employee retention. Your aim is to find departments with the highest amount of employees that have worked longer than ten years. This will assist HR in enhancing employees' engagement and retention strategies. \n",
    "\n",
    "To complete this activity, you will use the employee dataset and create a data frame with the employee totals in each department for a period over 10 years (calculated by from_date and to_date).  Finally, you'll visualize how long-term employees are spread across departments via a bar chart."
   ]
  },
  {
   "cell_type": "code",
   "execution_count": 110,
   "id": "c4fd21e2",
   "metadata": {},
   "outputs": [
    {
     "name": "stdout",
     "output_type": "stream",
     "text": [
      "root\n",
      " |-- emp_no: string (nullable = true)\n",
      " |-- salary: integer (nullable = true)\n",
      " |-- dept_no: string (nullable = true)\n",
      " |-- from_date: date (nullable = true)\n",
      " |-- to_date: date (nullable = true)\n",
      " |-- EMPLOYEE_ID: string (nullable = true)\n",
      " |-- FIRST_NAME: string (nullable = true)\n",
      " |-- LAST_NAME: string (nullable = true)\n",
      " |-- EMAIL: string (nullable = true)\n",
      " |-- PHONE_NUMBER: string (nullable = true)\n",
      " |-- HIRE_DATE: string (nullable = true)\n",
      " |-- JOB_ID: string (nullable = true)\n",
      " |-- SALARY: integer (nullable = true)\n",
      " |-- COMMISSION_PCT: string (nullable = true)\n",
      " |-- MANAGER_ID: string (nullable = true)\n",
      " |-- DEPARTMENT_ID: integer (nullable = true)\n",
      " |-- from_date: string (nullable = true)\n",
      " |-- to_date: string (nullable = true)\n",
      " |-- age: double (nullable = true)\n",
      "\n"
     ]
    }
   ],
   "source": [
    "emp_data.dropDuplicates"
   ]
  },
  {
   "cell_type": "code",
   "execution_count": 108,
   "id": "cad2aef9",
   "metadata": {},
   "outputs": [
    {
     "name": "stdout",
     "output_type": "stream",
     "text": [
      "root\n",
      " |-- EMPLOYEE_ID: string (nullable = true)\n",
      " |-- FIRST_NAME: string (nullable = true)\n",
      " |-- LAST_NAME: string (nullable = true)\n",
      " |-- EMAIL: string (nullable = true)\n",
      " |-- PHONE_NUMBER: string (nullable = true)\n",
      " |-- HIRE_DATE: date (nullable = true)\n",
      " |-- JOB_ID: string (nullable = true)\n",
      " |-- SALARY: integer (nullable = true)\n",
      " |-- COMMISSION_PCT: string (nullable = true)\n",
      " |-- MANAGER_ID: string (nullable = true)\n",
      " |-- DEPARTMENT_ID: integer (nullable = true)\n",
      " |-- from_date: date (nullable = true)\n",
      " |-- to_date: date (nullable = true)\n",
      " |-- age: integer (nullable = true)\n",
      " |-- years_worked: integer (nullable = true)\n",
      "\n"
     ]
    }
   ],
   "source": [
    "emp_df = emp_df.withColumn('HIRE_DATE',emp_df['HIRE_DATE'].cast('date')) \\\n",
    "    .withColumn('from_date',emp_df['from_date'].cast('date')) \\\n",
    "    .withColumn('to_date',emp_df['to_date'].cast('date')) \\\n",
    "    .withColumn('age',emp_df['age'].cast('int')) \\\n",
    "    .withColumn('years_worked',emp_df['years_worked'].cast('int'))\n",
    "emp_df.printSchema()"
   ]
  },
  {
   "cell_type": "code",
   "execution_count": null,
   "id": "325d89db-5b94-4f43-9501-e53977ffbc5f",
   "metadata": {},
   "outputs": [],
   "source": [
    "from pyspark.sql import functions as F\n",
    "\n",
    "## Calculate the years worked based on the difference between 'to_date' and 'from_date'\n",
    "\n",
    "emp_data = emp_data.withColumn('years_worked',(F.datediff(F.col('to_date'),F.col('from_date'))/365))\n",
    "emp_data.show(5)\n",
    "\n",
    "## Group by emp_no and dept_no to sum the years worked\n",
    "emp_agg = emp_data.groupBy(\"emp_no\", \"dept_no\").agg(F.sum(\"years_worked\").alias(\"total_years_worked\"))\n",
    "emp_agg.show()"
   ]
  },
  {
   "cell_type": "code",
   "execution_count": null,
   "id": "bade01c7-f7ba-4d51-b00b-3c1c02c51399",
   "metadata": {},
   "outputs": [],
   "source": [
    "## Filter employees who have worked more than 10 years\n",
    "\n",
    "long_term_employees = emp_agg.filter(F.col(\"total_years_worked\") > 10)\n",
    "                           \n",
    "\n",
    "## Group by department and count distinct employees who worked more than 10 years\n",
    "long_term_count = long_term_employees.groupBy(\"dept_no\").agg(F.countDistinct(\"emp_no\").alias(\"long_term_employees\"))\n",
    "\n",
    "\n",
    "## Show the result\n",
    "long_term_count.show()"
   ]
  },
  {
   "cell_type": "code",
   "execution_count": null,
   "id": "72289f86-e758-4777-bd40-8524ecd38c3a",
   "metadata": {},
   "outputs": [],
   "source": [
    "## Convert the Spark data frame to Pandas for visualization\n",
    "\n",
    "long_term_count_pandas = long_term_count.toPandas()\n",
    "\n",
    "## Create a bar chart to visualize the distribution of long-term employees across departments\n",
    "plt.figure(figsize=(10, 6))\n",
    "plt.bar(long_term_count_pandas['dept_no'], long_term_count_pandas['long_term_employees'], color='lightblue')\n",
    "plt.title(\"Distribution of Long-Term Employees Across Departments\")\n",
    "plt.xlabel(\"Department\")\n",
    "plt.ylabel(\"Number of Long-Term Employees\")\n",
    "plt.xticks(rotation=45, ha='right')\n",
    "plt.tight_layout()\n",
    "plt.show()\n"
   ]
  },
  {
   "cell_type": "code",
   "execution_count": null,
   "id": "383ab51f-d191-41d0-b846-214ffea74d55",
   "metadata": {},
   "outputs": [],
   "source": []
  }
 ],
 "metadata": {
  "kernelspec": {
   "display_name": "base",
   "language": "python",
   "name": "python3"
  },
  "language_info": {
   "codemirror_mode": {
    "name": "ipython",
    "version": 3
   },
   "file_extension": ".py",
   "mimetype": "text/x-python",
   "name": "python",
   "nbconvert_exporter": "python",
   "pygments_lexer": "ipython3",
   "version": "3.10.9"
  }
 },
 "nbformat": 4,
 "nbformat_minor": 5
}
